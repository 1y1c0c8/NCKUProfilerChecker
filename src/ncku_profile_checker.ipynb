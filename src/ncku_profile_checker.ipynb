{
 "cells": [
  {
   "cell_type": "markdown",
   "metadata": {},
   "source": [
    "## NCKU 研究人員資料庫存在性檢查\n",
    "\n",
    "這個 Jupyter Notebook 用於檢查一份姓名列表中的研究人員是否存在於成功大學的研究成果網站中。\n",
    "\n",
    "### 流程如下：\n",
    "1. **準備資料**：在標示為 `TODO` 的儲存格中，填入您想要查詢的姓名列表 `input_list`。\n",
    "2. **執行爬蟲**：程式會遍歷列表中的每個名字，自動產生查詢網址並抓取網頁內容。\n",
    "3. **解析與判斷**：透過分析網頁的 HTML，判斷是否存在關鍵的 `<h2>Profiles</h2>` 區塊。\n",
    "4. **分類結果**：將名字分為「存在於系統中」和「不存在於系統中」兩類。\n",
    "5. **匯出報告**：將最終結果儲存為一個 CSV 檔案，方便後續使用。"
   ]
  },
  {
   "cell_type": "markdown",
   "metadata": {},
   "source": []
  },
  {
   "cell_type": "markdown",
   "metadata": {},
   "source": [
    "### 步驟 1: 匯入必要的函式庫\n",
    "首先，我們需要匯入用於網路請求、HTML 解析和數據處理的函式庫。"
   ]
  },
  {
   "cell_type": "code",
   "execution_count": 16,
   "metadata": {},
   "outputs": [
    {
     "name": "stdout",
     "output_type": "stream",
     "text": [
      "函式庫匯入成功！\n"
     ]
    }
   ],
   "source": [
    "import requests\n",
    "from bs4 import BeautifulSoup\n",
    "import pandas as pd\n",
    "from urllib.parse import quote\n",
    "import time\n",
    "from tqdm import tqdm\n",
    "\n",
    "print(\"函式庫匯入成功！\")"
   ]
  },
  {
   "cell_type": "markdown",
   "metadata": {},
   "source": [
    "### 步驟 2: 從 PDF 自動讀取姓名並產生 input_list\n",
    "此步驟會自動讀取 `../input/` 資料夾中的 PDF 檔案，並從中提取姓名，作為接下來要查詢的列表。"
   ]
  },
  {
   "cell_type": "code",
   "execution_count": 17,
   "metadata": {},
   "outputs": [
    {
     "name": "stdout",
     "output_type": "stream",
     "text": [
      "正在從 ../input/名譽教授.pdf 讀取姓名...\n",
      "成功讀取 126 個姓名。\n",
      "預覽前 5 個姓名: ['王廷山', '吳添壽', '李克讓', '黃定加', '崔永晉']\n"
     ]
    }
   ],
   "source": [
    "import os\n",
    "import pdfplumber\n",
    "import pandas as pd\n",
    "\n",
    "def get_names_from_pdf(pdf_path):\n",
    "    names = []\n",
    "    with pdfplumber.open(pdf_path) as pdf:\n",
    "        for page in pdf.pages:\n",
    "            tables = page.extract_tables()\n",
    "            for table in tables:\n",
    "                df = pd.DataFrame(table[1:], columns=table[0])\n",
    "                if '姓名' in df.columns:\n",
    "                    # 移除 '教授' 並過濾掉空值\n",
    "                    cleaned_names = df['姓名'].str.replace('教授', '', regex=False).dropna()\n",
    "                    names.extend(cleaned_names.tolist())\n",
    "    return names\n",
    "\n",
    "input_dir = '../input/'\n",
    "pdf_files = [f for f in os.listdir(input_dir) if f.endswith('.pdf')]\n",
    "\n",
    "if not pdf_files:\n",
    "    print(f\"在 '{input_dir}' 中找不到任何 PDF 檔案。請確認檔案已放置。\")\n",
    "    input_list = [] # 如果找不到檔案，則使用空列表\n",
    "else:\n",
    "    pdf_path = os.path.join(input_dir, pdf_files[0])\n",
    "    print(f\"正在從 {pdf_path} 讀取姓名...\")\n",
    "    input_list = get_names_from_pdf(pdf_path)\n",
    "\n",
    "print(f\"成功讀取 {len(input_list)} 個姓名。\")\n",
    "print(\"預覽前 5 個姓名:\", input_list[:5])"
   ]
  },
  {
   "cell_type": "markdown",
   "metadata": {},
   "source": [
    "### 步驟 3: 定義核心檢查函式\n",
    "這個函式 `check_profile_exists` 負責處理單一姓名的查詢、爬取和判斷邏輯。"
   ]
  },
  {
   "cell_type": "code",
   "execution_count": 18,
   "metadata": {},
   "outputs": [],
   "source": [
    "def check_profile_exists(name):\n",
    "    base_url = \"https://researchoutput.ncku.edu.tw/en/searchAll/index/?search={search_term}&pageSize=25&showAdvanced=false&allConcepts=true&inferConcepts=true&searchBy=PartOfNameOrTitle\"\n",
    "    encoded_name = quote(name)\n",
    "    search_url = base_url.format(search_term=encoded_name)\n",
    "    \n",
    "    # 偽裝成一個真實的瀏覽器 User-Agent\n",
    "    headers = {\n",
    "        \"User-Agent\": \"Mozilla/5.0 (Windows NT 10.0; Win64; x64) AppleWebKit/537.36 (KHTML, like Gecko) Chrome/91.0.4472.124 Safari/537.36\"\n",
    "    }\n",
    "\n",
    "    try:\n",
    "        response = requests.get(search_url, headers=headers,timeout=15)\n",
    "        response.raise_for_status()\n",
    "        soup = BeautifulSoup(response.text, \"html.parser\")\n",
    "        section_titles = soup.find_all(\"h2\", class_=\"section-title\")\n",
    "        for title in section_titles:\n",
    "            if \"Profiles\" in title.get_text(strip=True):\n",
    "                return True\n",
    "        return False\n",
    "    except requests.exceptions.RequestException as e:\n",
    "        if isinstance (e, requests.exceptions.HTTPError) and e.response.status_code == 403:\n",
    "            print(f\"❌ 請求被拒絕 (403 Forbidden)。網站可能已封鎖爬蟲。\")\n",
    "        else:\n",
    "            print(f\"查詢 '{name}' 時發生網路錯誤: {e}\")\n",
    "        return False"
   ]
  },
  {
   "cell_type": "markdown",
   "metadata": {},
   "source": [
    "### 步驟 4: 執行查詢與分類\n",
    "現在我們將遍歷 `input_list`，對每個姓名執行檢查，並將結果存入兩個不同的列表中。"
   ]
  },
  {
   "cell_type": "code",
   "execution_count": 12,
   "metadata": {},
   "outputs": [],
   "source": [
    "found_list = []\n",
    "not_found_list = []\n",
    "\n",
    "for name in tqdm(input_list, desc=\"正在查詢進度\"):\n",
    "    print(f\"正在查詢: {name}...\", end=\"\")\n",
    "    if check_profile_exists(name):\n",
    "        print(\"✔ 存在於系統中\")\n",
    "        found_list.append(name)\n",
    "    else:\n",
    "        print(\"❌ 不存在於系統中\")\n",
    "        not_found_list.append(name)\n",
    "    time.sleep(0.5)\n",
    "\n",
    "print(\"--- 查詢完成---\")\n",
    "print(f\"存在於系統中的人員 ({len(found_list)}): {found_list}\")\n",
    "print(f\"不存在於系統中的人員 ({len(not_found_list)}): {not_found_list}\")"
   ]
  },
  {
   "cell_type": "markdown",
   "metadata": {},
   "source": [
    "### 步驟 5: 匯出結果為獨立的 CSV 檔案\n",
    "最後，我們使用 `pandas` 將兩個列表合併成一個結構化的 DataFrame，並將其儲存為 CSV 檔案。"
   ]
  },
  {
   "cell_type": "code",
   "execution_count": 19,
   "metadata": {},
   "outputs": [
    {
     "name": "stdout",
     "output_type": "stream",
     "text": [
      "成功匯出檔案: ../results/存在於系統中的人員.csv\n",
      "成功匯出檔案: ../results/不存在於系統中的人員.csv\n"
     ]
    }
   ],
   "source": [
    "found_df = pd.DataFrame({'Name': found_list, 'Status': '存在於系統中'})\n",
    "not_found_df = pd.DataFrame({'Name': not_found_list, 'Status': '不存在於系統中'})\n",
    "result_df = pd.concat([found_df, not_found_df], ignore_index=True)\n",
    "\n",
    "# 建立 \"存在\" 的 DataFrame\n",
    "found_df_separate = pd.DataFrame({'姓名': found_list})\n",
    "found_filename = '../results/存在於系統中的人員.csv' \n",
    "found_df_separate.to_csv(found_filename, index=False, encoding='utf-8-sig')\n",
    "print(f\"成功匯出檔案: {found_filename}\")\n",
    "\n",
    "# 建立 \"不存在\" 的 DataFrame\n",
    "not_found_df_separate = pd.DataFrame({'姓名': not_found_list})\n",
    "not_found_filename = '../results/不存在於系統中的人員.csv'\n",
    "not_found_df_separate.to_csv(not_found_filename, index=False, encoding='utf-8-sig')\n",
    "print(f\"成功匯出檔案: {not_found_filename}\")"
   ]
  },
  {
   "cell_type": "markdown",
   "metadata": {},
   "source": [
    "### 步驟 6: 最終結果統計\n",
    "\n",
    "此處總結了本次執行的所有數據，方便快速了解結果。"
   ]
  },
  {
   "cell_type": "code",
   "execution_count": 20,
   "metadata": {},
   "outputs": [
    {
     "name": "stdout",
     "output_type": "stream",
     "text": [
      "--- 最終統計結果---\n",
      "從 PDF 檔案中總共讀取到 126 個姓名。\n",
      "經查詢後，存在於系統中的人員共有 49 位。\n",
      "經查詢後，不存在於系統中的人員共有 77 位。\n"
     ]
    }
   ],
   "source": [
    "total_from_pdf = len(input_list)\n",
    "total_found = len(found_list)\n",
    "total_not_found = len(not_found_list)\n",
    "\n",
    "print(\"--- 最終統計結果---\")\n",
    "print(f\"從 PDF 檔案中總共讀取到 {total_from_pdf} 個姓名。\")\n",
    "print(f\"經查詢後，存在於系統中的人員共有 {total_found} 位。\")\n",
    "print(f\"經查詢後，不存在於系統中的人員共有 {total_not_found} 位。\")"
   ]
  }
 ],
 "metadata": {
  "kernelspec": {
   "display_name": "Python 3",
   "language": "python",
   "name": "python3"
  },
  "language_info": {
   "codemirror_mode": {
    "name": "ipython",
    "version": 3
   },
   "file_extension": ".py",
   "mimetype": "text/x-python",
   "name": "python",
   "nbconvert_exporter": "python",
   "pygments_lexer": "ipython3",
   "version": "3.11.13"
  }
 },
 "nbformat": 4,
 "nbformat_minor": 4
}
